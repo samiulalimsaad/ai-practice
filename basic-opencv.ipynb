{
 "cells": [
  {
   "cell_type": "code",
   "execution_count": 74,
   "metadata": {},
   "outputs": [],
   "source": [
    "import cv2\n",
    "import numpy as np\n"
   ]
  },
  {
   "cell_type": "code",
   "execution_count": 75,
   "metadata": {},
   "outputs": [],
   "source": [
    "def show_img(img, name=\"img name\"):\n",
    "    cv2.imshow(name, img)\n",
    "    cv2.waitKey(0)\n",
    "    cv2.destroyAllWindows()\n"
   ]
  },
  {
   "cell_type": "code",
   "execution_count": 76,
   "metadata": {},
   "outputs": [],
   "source": [
    "canvas = np.zeros((800, 800, 3))\n",
    "# show_img(canvas, \"canvas\")\n"
   ]
  },
  {
   "cell_type": "markdown",
   "metadata": {},
   "source": [
    "# Drawing Line\n",
    "\n",
    "## cv2.line(matrix, (x1, y1), (x2, y2), (B, G, R), thickness)\n"
   ]
  },
  {
   "cell_type": "code",
   "execution_count": 77,
   "metadata": {},
   "outputs": [],
   "source": [
    "line = cv2.line(canvas, (100, 100), (300, 100), (255, 0, 255), 1)\n",
    "# show_img(line, \"line with thickness 1\")\n"
   ]
  },
  {
   "cell_type": "code",
   "execution_count": 78,
   "metadata": {},
   "outputs": [],
   "source": [
    "line = cv2.line(canvas, (100, 150), (300, 150), (255, 255, 255), 10)\n",
    "# show_img(line, \"line with thickness 10\")\n"
   ]
  },
  {
   "cell_type": "markdown",
   "metadata": {},
   "source": [
    "# Rectangle\n",
    "\n",
    "## cv2.rectangle(matrix, (x1, y1), (x2, y2), (B, G, R), thickness)\n"
   ]
  },
  {
   "cell_type": "code",
   "execution_count": 79,
   "metadata": {},
   "outputs": [],
   "source": [
    "rectangle = cv2.rectangle(canvas, (100, 200), (450, 450), (255, 255, 0), 1)\n",
    "# show_img(rectangle, \"rectangle with border with 1\")\n"
   ]
  },
  {
   "cell_type": "code",
   "execution_count": 80,
   "metadata": {},
   "outputs": [],
   "source": [
    "rectangle = cv2.rectangle(canvas, (500, 200), (750, 450), (0, 255, 0), 10)\n",
    "# show_img(rectangle, \"rectangle with border 10\")\n"
   ]
  },
  {
   "cell_type": "code",
   "execution_count": 81,
   "metadata": {},
   "outputs": [],
   "source": [
    "rectangle = cv2.rectangle(canvas, (100, 500), (450, 750), (0, 255, 0), -1)\n",
    "# show_img(rectangle, \"rectangle with fill\")\n"
   ]
  },
  {
   "cell_type": "markdown",
   "metadata": {},
   "source": [
    "# Circle\n",
    "\n",
    "## cv2.circle(matrix, (x, y), r, (B, G, R), thickness)\n"
   ]
  },
  {
   "cell_type": "code",
   "execution_count": 82,
   "metadata": {},
   "outputs": [],
   "source": [
    "circle = cv2.circle(canvas, (250, 325), 100, (0, 0, 255), 1)\n",
    "# show_img(circle, \"circle with border 1\")\n"
   ]
  },
  {
   "cell_type": "code",
   "execution_count": 83,
   "metadata": {},
   "outputs": [],
   "source": [
    "circle = cv2.circle(canvas, (625, 325), 100, (0, 0, 255), 10)\n",
    "# show_img(circle, \"circle with border 10\")\n"
   ]
  },
  {
   "cell_type": "code",
   "execution_count": 84,
   "metadata": {},
   "outputs": [],
   "source": [
    "circle = cv2.circle(canvas, (275, 625), 100, (0, 0, 255), -1)\n",
    "# show_img(circle, \"circle with fill\")\n"
   ]
  },
  {
   "cell_type": "markdown",
   "metadata": {},
   "source": [
    "# Arrowed Line\n",
    "\n",
    "## cv2.arrowedLine(matrix, (x1, y1), (x2, y2), (B, G, R), thickness)\n"
   ]
  },
  {
   "cell_type": "code",
   "execution_count": 85,
   "metadata": {},
   "outputs": [],
   "source": [
    "arrowedLine = cv2.arrowedLine(canvas, (100, 775), (300, 775), (255, 0, 0), 1)\n",
    "# show_img(arrowedLine, \"arrowed line with border 1\")\n"
   ]
  },
  {
   "cell_type": "code",
   "execution_count": 86,
   "metadata": {},
   "outputs": [],
   "source": [
    "arrowedLine = cv2.arrowedLine(canvas, (350, 775), (600, 775), (255, 0, 0), 10)\n",
    "# show_img(arrowedLine, \"arrowed line with border 10\")\n"
   ]
  },
  {
   "cell_type": "markdown",
   "metadata": {},
   "source": [
    "# poly line\n"
   ]
  },
  {
   "cell_type": "code",
   "execution_count": 87,
   "metadata": {},
   "outputs": [
    {
     "name": "stdout",
     "output_type": "stream",
     "text": [
      "[[250   5]\n",
      " [220  80]\n",
      " [280  80]]\n",
      "[[[250   5]]\n",
      "\n",
      " [[220  80]]\n",
      "\n",
      " [[280  80]]]\n"
     ]
    }
   ],
   "source": [
    "pts = np.array([[250, 5], [220, 80], [280, 80]], dtype=np.int32)\n",
    "print(pts)\n",
    "pts = pts.reshape((-1, 1, 2))\n",
    "print(pts)\n",
    "\n",
    "polyLine = cv2.polylines(canvas, [pts], True, (123, 123, 123), 3)\n",
    "show_img(polyLine, \"poly line with 3 pointes\")\n"
   ]
  },
  {
   "cell_type": "code",
   "execution_count": 88,
   "metadata": {},
   "outputs": [
    {
     "name": "stdout",
     "output_type": "stream",
     "text": [
      "[[111 645]\n",
      " [222 678]\n",
      " [333 453]\n",
      " [444 567]\n",
      " [555 344]\n",
      " [666 234]]\n",
      "[[[111 645]]\n",
      "\n",
      " [[222 678]]\n",
      "\n",
      " [[333 453]]\n",
      "\n",
      " [[444 567]]\n",
      "\n",
      " [[555 344]]\n",
      "\n",
      " [[666 234]]]\n"
     ]
    }
   ],
   "source": [
    "pts = np.array([[111,645],[222,678],[333,453],[444,567],[555,344],[666,234],], dtype=np.int32)\n",
    "print(pts)\n",
    "pts = pts.reshape((-1, 1, 2))\n",
    "print(pts)\n",
    "\n",
    "polyLine = cv2.polylines(canvas, [pts], True, (0, 123, 123), 3)\n",
    "show_img(polyLine, \"poly line with multi pointes\")\n"
   ]
  }
 ],
 "metadata": {
  "interpreter": {
   "hash": "196661574682535ec6693fc85c7a668591031c40048191c227673f4269e31496"
  },
  "kernelspec": {
   "display_name": "Python 3.8.10 ('practice-pqZ5WJYe-py3.8')",
   "language": "python",
   "name": "python3"
  },
  "language_info": {
   "codemirror_mode": {
    "name": "ipython",
    "version": 3
   },
   "file_extension": ".py",
   "mimetype": "text/x-python",
   "name": "python",
   "nbconvert_exporter": "python",
   "pygments_lexer": "ipython3",
   "version": "3.8.10"
  },
  "orig_nbformat": 4
 },
 "nbformat": 4,
 "nbformat_minor": 2
}
