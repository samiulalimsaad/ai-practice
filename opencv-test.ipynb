{
 "cells": [
  {
   "cell_type": "code",
   "execution_count": 13,
   "metadata": {},
   "outputs": [],
   "source": [
    "import cv2\n",
    "import numpy as np\n"
   ]
  },
  {
   "cell_type": "code",
   "execution_count": 14,
   "metadata": {},
   "outputs": [],
   "source": [
    "def show_img(img, name):\n",
    "    cv2.namedWindow(name, cv2.WINDOW_NORMAL)\n",
    "    cv2.imshow(name, img)\n",
    "    if cv2.waitKey() == ord(\"q\"):\n",
    "        cv2.destroyAllWindows()\n"
   ]
  },
  {
   "cell_type": "code",
   "execution_count": 15,
   "metadata": {},
   "outputs": [],
   "source": [
    "blank = np.zeros((500, 500), dtype=\"uint8\")\n",
    "show_img(blank, \"blank\")\n"
   ]
  },
  {
   "cell_type": "markdown",
   "metadata": {},
   "source": [
    "# Scaling\n"
   ]
  },
  {
   "cell_type": "code",
   "execution_count": 16,
   "metadata": {},
   "outputs": [],
   "source": [
    "img = cv2.imread(\"./80j.jpg\")\n",
    "img_linear = cv2.resize(img, None, fx=5, fy=5, interpolation=cv2.INTER_LINEAR)\n",
    "img_cubic = cv2.resize(img, None, fx=5, fy=5, interpolation=cv2.INTER_CUBIC)\n",
    "# show_img(img,'img')\n",
    "# show_img(img_linear,'img_linear')\n",
    "# show_img(img_cubic,'img_cubic')\n"
   ]
  },
  {
   "cell_type": "markdown",
   "metadata": {},
   "source": [
    "# Translation\n"
   ]
  },
  {
   "cell_type": "code",
   "execution_count": 17,
   "metadata": {},
   "outputs": [],
   "source": [
    "img = cv2.imread(\"./80j.jpg\")\n",
    "\n",
    "# Translation matrix\n",
    "# matrix = np.float32([[1, 0, 100], [0, 1, 100]])\n",
    "# translated = cv2.warpAffine(img, matrix, (img.shape[1] + 100, img.shape[0] + 1))\n",
    "# show_img(img, \"translated\")\n"
   ]
  },
  {
   "cell_type": "markdown",
   "metadata": {},
   "source": [
    "# Rotating\n"
   ]
  },
  {
   "cell_type": "code",
   "execution_count": 18,
   "metadata": {},
   "outputs": [],
   "source": [
    "img = cv2.imread(\"./80j.jpg\")\n",
    "\n",
    "height, width = img.shape[:2]\n",
    "# Translation matrix\n",
    "matrix = cv2.getRotationMatrix2D((width / 2, height / 2), 45, 1)\n",
    "translated = cv2.warpAffine(img, matrix, (width, height))\n",
    "show_img(img, \"img\")\n",
    "show_img(translated, \"translated\")\n"
   ]
  },
  {
   "cell_type": "markdown",
   "metadata": {},
   "source": [
    "# Filter\n"
   ]
  },
  {
   "cell_type": "code",
   "execution_count": 27,
   "metadata": {},
   "outputs": [],
   "source": [
    "img = cv2.imread(\"./5.jpg\")\n",
    "\n",
    "kernel010 = np.array([[0, 0, 0], [0, 1, 0], [0, 0, 0]])\n",
    "kernel3x3 = np.ones((3, 3), dtype=np.float32) / 9.0\n",
    "kernel11x11 = np.ones((111, 111), dtype=np.float32) / 12321.0\n",
    "\n",
    "output010 = cv2.filter2D(img, -1, kernel010)\n",
    "output3x3 = cv2.filter2D(img, -1, kernel3x3)\n",
    "output11x11 = cv2.filter2D(img, -1, kernel11x11)\n",
    "\n",
    "show_img(img, \"img\")\n",
    "show_img(output010, \"output010\")\n",
    "show_img(output3x3, \"output3x3\")\n",
    "show_img(output11x11, \"output11x11\")\n"
   ]
  }
 ],
 "metadata": {
  "interpreter": {
   "hash": "196661574682535ec6693fc85c7a668591031c40048191c227673f4269e31496"
  },
  "kernelspec": {
   "display_name": "Python 3.8.10 64-bit ('practice-pqZ5WJYe-py3.8': poetry)",
   "language": "python",
   "name": "python3"
  },
  "language_info": {
   "codemirror_mode": {
    "name": "ipython",
    "version": 3
   },
   "file_extension": ".py",
   "mimetype": "text/x-python",
   "name": "python",
   "nbconvert_exporter": "python",
   "pygments_lexer": "ipython3",
   "version": "3.8.10"
  },
  "orig_nbformat": 4
 },
 "nbformat": 4,
 "nbformat_minor": 2
}
