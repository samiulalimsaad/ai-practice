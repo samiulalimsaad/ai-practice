{
 "cells": [
  {
   "cell_type": "code",
   "execution_count": 1,
   "metadata": {},
   "outputs": [],
   "source": [
    "import cv2\n",
    "import numpy as np"
   ]
  },
  {
   "cell_type": "code",
   "execution_count": 2,
   "metadata": {},
   "outputs": [],
   "source": [
    "def show_img(name,img):\n",
    "    cv2.imshow(name,img)\n",
    "    cv2.waitKey(0)\n",
    "    cv2.destroyAllWindows()"
   ]
  },
  {
   "cell_type": "code",
   "execution_count": 3,
   "metadata": {},
   "outputs": [],
   "source": [
    "blank =  np.zeros((500,500),dtype='uint8')\n",
    "show_img('blank', blank)"
   ]
  },
  {
   "cell_type": "code",
   "execution_count": 4,
   "metadata": {},
   "outputs": [
    {
     "ename": "TypeError",
     "evalue": "imread() missing required argument 'filename' (pos 1)",
     "output_type": "error",
     "traceback": [
      "\u001b[0;31m---------------------------------------------------------------------------\u001b[0m",
      "\u001b[0;31mTypeError\u001b[0m                                 Traceback (most recent call last)",
      "\u001b[1;32m/media/saad/Work/AI/practice/opencv-test.ipynb Cell 4'\u001b[0m in \u001b[0;36m<module>\u001b[0;34m\u001b[0m\n\u001b[0;32m----> <a href='vscode-notebook-cell:/media/saad/Work/AI/practice/opencv-test.ipynb#ch0000003?line=0'>1</a>\u001b[0m cat \u001b[39m=\u001b[39m cv2\u001b[39m.\u001b[39;49mimread()\n",
      "\u001b[0;31mTypeError\u001b[0m: imread() missing required argument 'filename' (pos 1)"
     ]
    }
   ],
   "source": [
    "cat = cv2.imread()"
   ]
  }
 ],
 "metadata": {
  "interpreter": {
   "hash": "196661574682535ec6693fc85c7a668591031c40048191c227673f4269e31496"
  },
  "kernelspec": {
   "display_name": "Python 3.8.10 64-bit ('practice-pqZ5WJYe-py3.8': poetry)",
   "language": "python",
   "name": "python3"
  },
  "language_info": {
   "codemirror_mode": {
    "name": "ipython",
    "version": 3
   },
   "file_extension": ".py",
   "mimetype": "text/x-python",
   "name": "python",
   "nbconvert_exporter": "python",
   "pygments_lexer": "ipython3",
   "version": "3.8.10"
  },
  "orig_nbformat": 4
 },
 "nbformat": 4,
 "nbformat_minor": 2
}
